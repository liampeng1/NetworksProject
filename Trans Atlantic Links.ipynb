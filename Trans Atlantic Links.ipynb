{
 "cells": [
  {
   "cell_type": "code",
   "execution_count": 2,
   "metadata": {},
   "outputs": [],
   "source": [
    "import pandas as pd"
   ]
  },
  {
   "cell_type": "code",
   "execution_count": 4,
   "metadata": {},
   "outputs": [],
   "source": [
    "combined_df = pd.read_csv('combined_df.csv')"
   ]
  },
  {
   "cell_type": "code",
   "execution_count": 47,
   "metadata": {},
   "outputs": [],
   "source": [
    "paris_df = combined_df.loc[combined_df['source'] == 'Paris']"
   ]
  },
  {
   "cell_type": "code",
   "execution_count": 53,
   "metadata": {},
   "outputs": [
    {
     "data": {
      "text/plain": [
       "Index(['Unnamed: 0', 'IP', 'Loss', 'Snt', 'Last', 'Avg', 'Best', 'Wrst',\n",
       "       'StDev', 'time', 'hop', 'source', 'route_number', 'email', 'IP_ISP',\n",
       "       'zip_code', 'time_zone', 'area', 'as', 'city', 'country', 'countryCode',\n",
       "       'isp', 'lat', 'lon', 'org', 'region', 'regionName', 'status',\n",
       "       'timezone', 'zip', 'message', 'asn', 'cont_code'],\n",
       "      dtype='object')"
      ]
     },
     "execution_count": 53,
     "metadata": {},
     "output_type": "execute_result"
    }
   ],
   "source": [
    "combined_df.columns"
   ]
  },
  {
   "cell_type": "code",
   "execution_count": 4,
   "metadata": {},
   "outputs": [],
   "source": [
    "paris_routes = paris_df.groupby('time')"
   ]
  },
  {
   "cell_type": "code",
   "execution_count": 5,
   "metadata": {},
   "outputs": [
    {
     "data": {
      "text/plain": [
       "Index(['Unnamed: 0', 'IP', 'Loss', 'Snt', 'Last', 'Avg', 'Best', 'Wrst',\n",
       "       'StDev', 'time', 'hop', 'source', 'route_number', 'email', 'IP_ISP',\n",
       "       'zip_code', 'time_zone', 'area', 'as', 'city', 'country', 'countryCode',\n",
       "       'isp', 'lat', 'lon', 'org', 'region', 'regionName', 'status',\n",
       "       'timezone', 'zip', 'message', 'asn', 'cont_code'],\n",
       "      dtype='object')"
      ]
     },
     "execution_count": 5,
     "metadata": {},
     "output_type": "execute_result"
    }
   ],
   "source": [
    "combined_df.columns"
   ]
  },
  {
   "cell_type": "code",
   "execution_count": 6,
   "metadata": {
    "scrolled": true
   },
   "outputs": [
    {
     "data": {
      "text/plain": [
       "0              NaN\n",
       "1            Hesse\n",
       "2            Hesse\n",
       "3            Hesse\n",
       "4    Île-de-France\n",
       "5         Virginia\n",
       "6         Virginia\n",
       "7         Virginia\n",
       "8         Illinois\n",
       "9         Virginia\n",
       "Name: regionName, dtype: object"
      ]
     },
     "execution_count": 6,
     "metadata": {},
     "output_type": "execute_result"
    }
   ],
   "source": [
    "combined_df['regionName'][:10]"
   ]
  },
  {
   "cell_type": "code",
   "execution_count": 7,
   "metadata": {},
   "outputs": [
    {
     "data": {
      "text/plain": [
       "['Frankfurt',\n",
       " 'Dallas',\n",
       " 'Singapore',\n",
       " 'Sydney',\n",
       " 'Paris',\n",
       " 'Bangalore',\n",
       " 'New York',\n",
       " 'Miami',\n",
       " 'San Francisco',\n",
       " 'Seattle',\n",
       " 'Tokyo',\n",
       " 'Toronto',\n",
       " 'Amsterdam',\n",
       " 'London']"
      ]
     },
     "execution_count": 7,
     "metadata": {},
     "output_type": "execute_result"
    }
   ],
   "source": [
    "list(set(combined_df['source']))"
   ]
  },
  {
   "cell_type": "code",
   "execution_count": 8,
   "metadata": {},
   "outputs": [
    {
     "data": {
      "text/plain": [
       "Index(['Unnamed: 0', 'IP', 'Loss', 'Snt', 'Last', 'Avg', 'Best', 'Wrst',\n",
       "       'StDev', 'time', 'hop', 'source', 'route_number', 'email', 'IP_ISP',\n",
       "       'zip_code', 'time_zone', 'area', 'as', 'city', 'country', 'countryCode',\n",
       "       'isp', 'lat', 'lon', 'org', 'region', 'regionName', 'status',\n",
       "       'timezone', 'zip', 'message', 'asn', 'cont_code'],\n",
       "      dtype='object')"
      ]
     },
     "execution_count": 8,
     "metadata": {},
     "output_type": "execute_result"
    }
   ],
   "source": [
    "combined_df.columns"
   ]
  },
  {
   "cell_type": "code",
   "execution_count": 6,
   "metadata": {
    "scrolled": false
   },
   "outputs": [],
   "source": [
    "TA_df = pd.DataFrame(columns=['delay', 'source', 'org', 'time', 'last_EU', 'first_NA'])\n",
    "for source in ['Amsterdam','Paris','Frankfurt', 'London']:\n",
    "    city_routes = combined_df.loc[combined_df['source'] == source]\n",
    "    for time, group in city_routes.groupby('time'):\n",
    "        # get the max change in latency between self and last router\n",
    "        # value should be the Distance in RTT between Source -> router in EU and Source -> router in NA\n",
    "        last = 0\n",
    "        TA_delay = 0\n",
    "        org = ''\n",
    "        threshold = 50 \n",
    "        # set to lowest RTT of TA_links by ISPs used\n",
    "        # https://www.thebroadcastbridge.com/content/entry/3988/trans-atlantic-network-latency-reduced\n",
    "        # determined by first link with delay > threshold because of what we saw as inacuracies in IP location data \n",
    "        for index, row in group.iterrows():\n",
    "            if row['Avg'] > 0.0:\n",
    "                avg_change = row['Avg'] - last\n",
    "                if avg_change > threshold:\n",
    "                    org = row['org']\n",
    "                    TA_delay = avg_change\n",
    "                    max_hop = row['hop']\n",
    "                    break\n",
    "                last = row['Avg']\n",
    "        # check latency of each router after the TA link\n",
    "        # Adjusts for spikes caused by increases in \n",
    "        min_after = TA_delay\n",
    "        for index, row in group.loc[group['hop'] >= max_hop].iterrows():\n",
    "            if row['Avg'] > 0:\n",
    "                # if latency for later router < our recorded TA latency \n",
    "                if row['Avg'] - last < min_after:\n",
    "                    # replace TA latency with later latency\n",
    "                    min_after = row['Avg'] - last\n",
    "        TA_delay = min_after\n",
    "        TA_df = TA_df.append({'delay':TA_delay, 'source':source, 'org':org, 'time':time}, ignore_index=True)\n",
    "            "
   ]
  },
  {
   "cell_type": "code",
   "execution_count": 54,
   "metadata": {},
   "outputs": [
    {
     "data": {
      "text/plain": [
       "{'Unnamed: 0': 135,\n",
       " 'IP': '80.231.152.25',\n",
       " 'Loss': '0.0%',\n",
       " 'Snt': 4.0,\n",
       " 'Last': 75.8,\n",
       " 'Avg': 75.8,\n",
       " 'Best': 75.7,\n",
       " 'Wrst': 75.9,\n",
       " 'StDev': 0.1,\n",
       " 'time': '2020-04-14T01:29:06+0000',\n",
       " 'hop': 4.0,\n",
       " 'source': 'Amsterdam',\n",
       " 'route_number': 9.0,\n",
       " 'email': 'mminturn@colgate.edu',\n",
       " 'IP_ISP': '73.246.0.206\\nISP: Comcast Cable Communications LLC',\n",
       " 'zip_code': 60093.0,\n",
       " 'time_zone': 'Central',\n",
       " 'area': 'Suburban',\n",
       " 'as': nan,\n",
       " 'city': 'Oeiras',\n",
       " 'country': 'Portugal',\n",
       " 'countryCode': 'PT',\n",
       " 'isp': 'TATA Communications',\n",
       " 'lat': 38.691,\n",
       " 'lon': -9.3108,\n",
       " 'org': 'Tata Communications Ltd.',\n",
       " 'region': '11',\n",
       " 'regionName': 'Lisbon',\n",
       " 'status': 'success',\n",
       " 'timezone': 'Europe/Lisbon',\n",
       " 'zip': '2780-000',\n",
       " 'message': nan,\n",
       " 'asn': 'AS6453',\n",
       " 'cont_code': 'EU'}"
      ]
     },
     "execution_count": 54,
     "metadata": {},
     "output_type": "execute_result"
    }
   ],
   "source": [
    "TA_df.iloc[0]['last_EU']"
   ]
  },
  {
   "cell_type": "code",
   "execution_count": 7,
   "metadata": {},
   "outputs": [],
   "source": [
    "TA_df['hour'] = TA_df['time'].apply(lambda time : int(time.split('T')[1].split(':')[0]))"
   ]
  },
  {
   "cell_type": "code",
   "execution_count": 8,
   "metadata": {},
   "outputs": [],
   "source": [
    "import matplotlib.pyplot as plt"
   ]
  },
  {
   "cell_type": "code",
   "execution_count": 12,
   "metadata": {},
   "outputs": [],
   "source": [
    "paris = TA_df.loc[TA_df['source'] == 'Paris']"
   ]
  },
  {
   "cell_type": "code",
   "execution_count": 13,
   "metadata": {},
   "outputs": [
    {
     "data": {
      "image/png": "[encoded data removed]",
      "text/plain": [
       "<Figure size 432x288 with 1 Axes>"
      ]
     },
     "metadata": {},
     "output_type": "display_data"
    }
   ],
   "source": [
    "paris.plot(kind='scatter',x='hour',y='delay',color='red')\n",
    "plt.show()"
   ]
  },
  {
   "cell_type": "code",
   "execution_count": 23,
   "metadata": {},
   "outputs": [
    {
     "data": {
      "text/plain": [
       "20"
      ]
     },
     "execution_count": 23,
     "metadata": {},
     "output_type": "execute_result"
    }
   ],
   "source": [
    "amsterdam = TA_df.loc[TA_df['source'] == 'Amsterdam']\n",
    "len(amsterdam)"
   ]
  },
  {
   "cell_type": "code",
   "execution_count": 153,
   "metadata": {},
   "outputs": [
    {
     "data": {
      "image/png": "[encoded data removed]",
      "text/plain": [
       "<Figure size 432x288 with 1 Axes>"
      ]
     },
     "metadata": {},
     "output_type": "display_data"
    }
   ],
   "source": [
    "amsterdam.plot(kind='scatter',x='hour',y='delay',color='red')\n",
    "plt.show()"
   ]
  },
  {
   "cell_type": "code",
   "execution_count": 154,
   "metadata": {},
   "outputs": [],
   "source": [
    "frankfurt = TA_df.loc[TA_df['source'] == 'Frankfurt']"
   ]
  },
  {
   "cell_type": "code",
   "execution_count": 155,
   "metadata": {},
   "outputs": [
    {
     "data": {
      "image/png": "[encoded data removed]",
      "text/plain": [
       "<Figure size 432x288 with 1 Axes>"
      ]
     },
     "metadata": {},
     "output_type": "display_data"
    }
   ],
   "source": [
    "frankfurt.plot(kind='scatter',x='hour',y='delay',color='red')\n",
    "plt.show()"
   ]
  },
  {
   "cell_type": "code",
   "execution_count": 156,
   "metadata": {},
   "outputs": [
    {
     "name": "stdout",
     "output_type": "stream",
     "text": [
      "    delay source                           org                      time  hour\n",
      "20   65.5  Paris                      Bravatas  2020-04-14T01:29:06+0000     1\n",
      "21   67.8  Paris             NTT America, Inc.  2020-04-14T01:34:31+0000     1\n",
      "22   70.2  Paris            Hurricane Electric  2020-04-14T01:35:32+0000     1\n",
      "23   72.5  Paris              Telia Company AB  2020-04-14T01:40:12+0000     1\n",
      "24   92.8  Paris              Telia Company AB  2020-04-14T01:48:07+0000     1\n",
      "25   86.6  Paris              Telia Company AB  2020-04-14T01:48:16+0000     1\n",
      "26   88.5  Paris              Telia Company AB  2020-04-14T02:33:45+0000     2\n",
      "27   76.5  Paris                      Bravatas  2020-04-14T13:55:46+0000    13\n",
      "28   82.0  Paris                  Level 3, LLC  2020-04-14T16:23:17+0000    16\n",
      "29   67.7  Paris             NTT America, Inc.  2020-04-14T17:49:32+0000    17\n",
      "30   81.1  Paris              Telia Company AB  2020-04-14T18:03:48+0000    18\n",
      "31   75.6  Paris              Telia Company AB  2020-04-14T18:21:59+0000    18\n",
      "32   87.9  Paris              Telia Company AB  2020-04-14T18:50:48+0000    18\n",
      "33   67.8  Paris             NTT America, Inc.  2020-04-14T21:45:23+0000    21\n",
      "34   74.2  Paris                           NaN  2020-04-15T01:06:42+0000     1\n",
      "35  130.5  Paris  Level 3 Communications, Inc.  2020-04-15T06:58:46+0000     6\n",
      "36   80.2  Paris              Telia Company AB  2020-04-15T14:53:49+0000    14\n",
      "37   76.9  Paris                      Bravatas  2020-04-16T03:47:58+0000     3\n",
      "38   67.0  Paris            Hurricane Electric  2020-04-16T20:16:20+0000    20\n",
      "39   70.3  Paris            Hurricane Electric  2020-04-16T22:23:26+0000    22\n",
      "40   66.5  Paris             NTT America, Inc.  2020-04-16T22:36:32+0000    22\n"
     ]
    }
   ],
   "source": [
    "print (paris)"
   ]
  },
  {
   "cell_type": "code",
   "execution_count": 157,
   "metadata": {},
   "outputs": [
    {
     "name": "stdout",
     "output_type": "stream",
     "text": [
      "    delay     source                org                      time  hour\n",
      "41   92.3  Frankfurt   Telia Company AB  2020-04-14T01:29:03+0000     1\n",
      "42   92.0  Frankfurt   Telia Company AB  2020-04-14T01:34:28+0000     1\n",
      "43   80.5  Frankfurt  NTT America, Inc.  2020-04-14T01:35:28+0000     1\n",
      "44   87.5  Frankfurt   Telia Company AB  2020-04-14T01:40:09+0000     1\n",
      "45   90.8  Frankfurt   Telia Company AB  2020-04-14T01:48:04+0000     1\n",
      "46   87.5  Frankfurt   Telia Company AB  2020-04-14T01:48:13+0000     1\n",
      "47   90.8  Frankfurt   Telia Company AB  2020-04-14T02:33:42+0000     2\n",
      "48   95.1  Frankfurt   Telia Company AB  2020-04-14T13:55:43+0000    13\n",
      "49   84.2  Frankfurt  NTT America, Inc.  2020-04-14T16:23:14+0000    16\n",
      "50   93.9  Frankfurt   Telia Company AB  2020-04-14T17:49:29+0000    17\n",
      "51   85.6  Frankfurt   Telia Company AB  2020-04-14T18:03:45+0000    18\n",
      "52   85.7  Frankfurt   Telia Company AB  2020-04-14T18:21:56+0000    18\n",
      "53   95.5  Frankfurt   Telia Company AB  2020-04-14T18:50:45+0000    18\n",
      "54   95.2  Frankfurt   Telia Company AB  2020-04-14T21:45:20+0000    21\n",
      "55   91.6  Frankfurt   Telia Company AB  2020-04-15T01:06:39+0000     1\n",
      "56   96.2  Frankfurt   Telia Company AB  2020-04-15T06:58:43+0000     6\n",
      "57   92.8  Frankfurt   Telia Company AB  2020-04-15T14:53:46+0000    14\n",
      "58   87.5  Frankfurt   Telia Company AB  2020-04-16T03:47:55+0000     3\n",
      "59   97.3  Frankfurt   Telia Company AB  2020-04-16T20:16:17+0000    20\n",
      "60  100.1  Frankfurt   Telia Company AB  2020-04-16T22:23:23+0000    22\n",
      "61   87.2  Frankfurt   Telia Company AB  2020-04-16T22:36:29+0000    22\n"
     ]
    }
   ],
   "source": [
    "print (frankfurt)"
   ]
  },
  {
   "cell_type": "code",
   "execution_count": 158,
   "metadata": {},
   "outputs": [
    {
     "name": "stdout",
     "output_type": "stream",
     "text": [
      "    delay     source                       org                      time  hour\n",
      "0    75.2  Amsterdam  Tata Communications Ltd.  2020-04-14T01:29:06+0000     1\n",
      "1    89.8  Amsterdam          Telia Company AB  2020-04-14T01:34:32+0000     1\n",
      "2    58.6  Amsterdam        Hurricane Electric  2020-04-14T01:35:33+0000     1\n",
      "3    75.9  Amsterdam            Zayo Bandwidth  2020-04-14T01:40:13+0000     1\n",
      "4    67.4  Amsterdam    Hurricane Electric LLC  2020-04-14T01:48:08+0000     1\n",
      "5    86.6  Amsterdam          Telia Company AB  2020-04-14T01:48:17+0000     1\n",
      "6    91.5  Amsterdam          Telia Company AB  2020-04-14T02:33:46+0000     2\n",
      "7    66.1  Amsterdam    Hurricane Electric LLC  2020-04-14T16:23:18+0000    16\n",
      "8    83.5  Amsterdam          Telia Company AB  2020-04-14T17:49:33+0000    17\n",
      "9    73.9  Amsterdam          Telia Company AB  2020-04-14T18:03:49+0000    18\n",
      "10   74.1  Amsterdam          Telia Company AB  2020-04-14T18:22:00+0000    18\n",
      "11   69.1  Amsterdam  Tata Communications Ltd.  2020-04-14T18:50:49+0000    18\n",
      "12   83.8  Amsterdam          Telia Company AB  2020-04-14T21:45:23+0000    21\n",
      "13   86.7  Amsterdam          Telia Company AB  2020-04-15T01:06:43+0000     1\n",
      "14   58.8  Amsterdam    Hurricane Electric LLC  2020-04-15T06:58:47+0000     6\n",
      "15   88.7  Amsterdam          Telia Company AB  2020-04-15T14:53:49+0000    14\n",
      "16   74.9  Amsterdam  Tata Communications Ltd.  2020-04-16T03:47:59+0000     3\n",
      "17   52.0  Amsterdam        Hurricane Electric  2020-04-16T20:16:21+0000    20\n",
      "18   59.0  Amsterdam        Hurricane Electric  2020-04-16T22:23:27+0000    22\n",
      "19   92.0  Amsterdam          Telia Company AB  2020-04-16T22:36:33+0000    22\n"
     ]
    }
   ],
   "source": [
    "print (amsterdam)"
   ]
  },
  {
   "cell_type": "code",
   "execution_count": 9,
   "metadata": {},
   "outputs": [],
   "source": [
    "TA_df = pd.read_csv('TA_df.csv')"
   ]
  },
  {
   "cell_type": "code",
   "execution_count": 202,
   "metadata": {},
   "outputs": [],
   "source": [
    "city_dict = {}\n",
    "for num, city in enumerate(list(set(TA_df['source']))):\n",
    "    city_dict[city] = num\n",
    "TA_df['source_num'] = TA_df['source'].apply(lambda source : city_dict[source])"
   ]
  },
  {
   "cell_type": "code",
   "execution_count": 252,
   "metadata": {},
   "outputs": [
    {
     "data": {
      "text/plain": [
       "{'Amsterdam': 0, 'Paris': 1, 'Frankfurt': 2}"
      ]
     },
     "execution_count": 252,
     "metadata": {},
     "output_type": "execute_result"
    }
   ],
   "source": [
    "city_dict"
   ]
  },
  {
   "cell_type": "code",
   "execution_count": 16,
   "metadata": {},
   "outputs": [
    {
     "name": "stderr",
     "output_type": "stream",
     "text": [
      "/home/liampeng/anaconda3/lib/python3.6/site-packages/pandas/plotting/_tools.py:308: MatplotlibDeprecationWarning: \n",
      "The rowNum attribute was deprecated in Matplotlib 3.2 and will be removed two minor releases later. Use ax.get_subplotspec().rowspan.start instead.\n",
      "  layout[ax.rowNum, ax.colNum] = ax.get_visible()\n",
      "/home/liampeng/anaconda3/lib/python3.6/site-packages/pandas/plotting/_tools.py:308: MatplotlibDeprecationWarning: \n",
      "The colNum attribute was deprecated in Matplotlib 3.2 and will be removed two minor releases later. Use ax.get_subplotspec().colspan.start instead.\n",
      "  layout[ax.rowNum, ax.colNum] = ax.get_visible()\n",
      "/home/liampeng/anaconda3/lib/python3.6/site-packages/pandas/plotting/_tools.py:314: MatplotlibDeprecationWarning: \n",
      "The rowNum attribute was deprecated in Matplotlib 3.2 and will be removed two minor releases later. Use ax.get_subplotspec().rowspan.start instead.\n",
      "  if not layout[ax.rowNum + 1, ax.colNum]:\n",
      "/home/liampeng/anaconda3/lib/python3.6/site-packages/pandas/plotting/_tools.py:314: MatplotlibDeprecationWarning: \n",
      "The colNum attribute was deprecated in Matplotlib 3.2 and will be removed two minor releases later. Use ax.get_subplotspec().colspan.start instead.\n",
      "  if not layout[ax.rowNum + 1, ax.colNum]:\n"
     ]
    },
    {
     "data": {
      "image/png": "[encoded data removed]",
      "text/plain": [
       "<Figure size 432x288 with 2 Axes>"
      ]
     },
     "metadata": {},
     "output_type": "display_data"
    }
   ],
   "source": [
    "delay_time = TA_df.plot.scatter(x='hour',\n",
    "                      y='delay',\n",
    "                      c='source_num',\n",
    "                      colormap='viridis').get_figure()\n",
    "delay_time.savefig('delay_time.pdf')"
   ]
  },
  {
   "cell_type": "code",
   "execution_count": 62,
   "metadata": {},
   "outputs": [
    {
     "data": {
      "image/png": "[encoded data removed]",
      "text/plain": [
       "<Figure size 432x288 with 1 Axes>"
      ]
     },
     "metadata": {},
     "output_type": "display_data"
    }
   ],
   "source": [
    "paris = TA_df.loc[(TA_df['source'] == 'Paris') & (TA_df['time'] != '2020-04-15T06:58:46+0000')]\n",
    "amsterdam = TA_df.loc[TA_df['source'] == 'Amsterdam']\n",
    "frankfurt = TA_df.loc[TA_df['source'] == 'Frankfurt']\n",
    "plt.scatter(x=paris['hour'],y=paris['delay'], label='Paris', color='red', marker=\"o\")\n",
    "plt.scatter(x=amsterdam['hour'],y=amsterdam['delay'], label='Amsterdam', color='blue', marker=\"o\")\n",
    "plt.scatter(x=frankfurt['hour'],y=frankfurt['delay'], label='Frankfurt', color='yellow', marker=\"o\")\n",
    "plt.legend()\n",
    "plt.show()"
   ]
  },
  {
   "cell_type": "code",
   "execution_count": null,
   "metadata": {},
   "outputs": [],
   "source": []
  },
  {
   "cell_type": "code",
   "execution_count": 186,
   "metadata": {},
   "outputs": [
    {
     "data": {
      "text/plain": [
       "{'Bravatas',\n",
       " 'Hurricane Electric',\n",
       " 'Level 3',\n",
       " 'Level 3,',\n",
       " 'NTT America,',\n",
       " 'Tata Communications',\n",
       " 'Telia Company',\n",
       " 'Zayo Bandwidth',\n",
       " nan}"
      ]
     },
     "execution_count": 186,
     "metadata": {},
     "output_type": "execute_result"
    }
   ],
   "source": [
    "set(TA_df['org'])"
   ]
  },
  {
   "cell_type": "code",
   "execution_count": 183,
   "metadata": {},
   "outputs": [],
   "source": [
    "def org_name(org):\n",
    "    if pd.isna(org):\n",
    "        return org\n",
    "    x = org.split()\n",
    "    if len(x) <= 2:\n",
    "        return org\n",
    "    newOrg = ' '.join(x[:2])\n",
    "    return newOrg"
   ]
  },
  {
   "cell_type": "code",
   "execution_count": 184,
   "metadata": {},
   "outputs": [],
   "source": [
    "TA_df['org'] = TA_df['org'].apply(org_name)"
   ]
  },
  {
   "cell_type": "code",
   "execution_count": 188,
   "metadata": {},
   "outputs": [],
   "source": [
    "TA_df['org'] = TA_df['org'].apply(lambda org : org if pd.isna(org) else org.replace(',',''))"
   ]
  },
  {
   "cell_type": "code",
   "execution_count": 255,
   "metadata": {},
   "outputs": [],
   "source": [
    "TA_df.to_csv('TA_df.csv')"
   ]
  },
  {
   "cell_type": "code",
   "execution_count": 235,
   "metadata": {},
   "outputs": [
    {
     "data": {
      "text/plain": [
       "['Zayo Bandwidth',\n",
       " 'Telia Company',\n",
       " 'NTT America',\n",
       " 'Tata Communications',\n",
       " 'Level 3',\n",
       " 'Unknown',\n",
       " 'Bravatas',\n",
       " 'Hurricane Electric']"
      ]
     },
     "execution_count": 235,
     "metadata": {},
     "output_type": "execute_result"
    }
   ],
   "source": [
    "list(set(TA_df['org']))"
   ]
  },
  {
   "cell_type": "code",
   "execution_count": 236,
   "metadata": {},
   "outputs": [],
   "source": [
    "TA_df['org'] = TA_df['org'].fillna('Unknown')"
   ]
  },
  {
   "cell_type": "code",
   "execution_count": 242,
   "metadata": {},
   "outputs": [],
   "source": [
    "org_dict = {}\n",
    "i = 0\n",
    "for org in list(set(TA_df['org'])):\n",
    "    org_dict[org] = i\n",
    "    i += 1"
   ]
  },
  {
   "cell_type": "code",
   "execution_count": 243,
   "metadata": {},
   "outputs": [
    {
     "data": {
      "text/plain": [
       "{'Zayo Bandwidth': 0,\n",
       " 'Telia Company': 1,\n",
       " 'NTT America': 2,\n",
       " 'Tata Communications': 3,\n",
       " 'Level 3': 4,\n",
       " 'Unknown': 5,\n",
       " 'Bravatas': 6,\n",
       " 'Hurricane Electric': 7}"
      ]
     },
     "execution_count": 243,
     "metadata": {},
     "output_type": "execute_result"
    }
   ],
   "source": [
    "org_dict"
   ]
  },
  {
   "cell_type": "code",
   "execution_count": 244,
   "metadata": {},
   "outputs": [],
   "source": [
    "TA_df['org_num'] = TA_df['org'].apply(lambda org : org_dict[org])"
   ]
  },
  {
   "cell_type": "code",
   "execution_count": 246,
   "metadata": {},
   "outputs": [
    {
     "name": "stderr",
     "output_type": "stream",
     "text": [
      "/home/liampeng/anaconda3/lib/python3.6/site-packages/pandas/plotting/_tools.py:308: MatplotlibDeprecationWarning: \n",
      "The rowNum attribute was deprecated in Matplotlib 3.2 and will be removed two minor releases later. Use ax.get_subplotspec().rowspan.start instead.\n",
      "  layout[ax.rowNum, ax.colNum] = ax.get_visible()\n",
      "/home/liampeng/anaconda3/lib/python3.6/site-packages/pandas/plotting/_tools.py:308: MatplotlibDeprecationWarning: \n",
      "The colNum attribute was deprecated in Matplotlib 3.2 and will be removed two minor releases later. Use ax.get_subplotspec().colspan.start instead.\n",
      "  layout[ax.rowNum, ax.colNum] = ax.get_visible()\n",
      "/home/liampeng/anaconda3/lib/python3.6/site-packages/pandas/plotting/_tools.py:314: MatplotlibDeprecationWarning: \n",
      "The rowNum attribute was deprecated in Matplotlib 3.2 and will be removed two minor releases later. Use ax.get_subplotspec().rowspan.start instead.\n",
      "  if not layout[ax.rowNum + 1, ax.colNum]:\n",
      "/home/liampeng/anaconda3/lib/python3.6/site-packages/pandas/plotting/_tools.py:314: MatplotlibDeprecationWarning: \n",
      "The colNum attribute was deprecated in Matplotlib 3.2 and will be removed two minor releases later. Use ax.get_subplotspec().colspan.start instead.\n",
      "  if not layout[ax.rowNum + 1, ax.colNum]:\n"
     ]
    },
    {
     "data": {
      "text/plain": [
       "<matplotlib.axes._subplots.AxesSubplot at 0x7f1244df1a90>"
      ]
     },
     "execution_count": 246,
     "metadata": {},
     "output_type": "execute_result"
    },
    {
     "data": {
      "image/png": "[encoded data removed]",
      "text/plain": [
       "<Figure size 432x288 with 2 Axes>"
      ]
     },
     "metadata": {},
     "output_type": "display_data"
    }
   ],
   "source": [
    "TA_df.plot.scatter(x='hour',\n",
    "                      y='delay',\n",
    "                      c='org_num',\n",
    "                      colormap='viridis')"
   ]
  },
  {
   "cell_type": "code",
   "execution_count": 266,
   "metadata": {},
   "outputs": [
    {
     "data": {
      "image/png": "[encoded data removed]",
      "text/plain": [
       "<Figure size 432x288 with 1 Axes>"
      ]
     },
     "metadata": {},
     "output_type": "display_data"
    }
   ],
   "source": [
    "delay_org = TA_df.boxplot(column=['delay'],by='org', rot=90).get_figure()\n",
    "delay_org.savefig('delay_org.pdf')"
   ]
  },
  {
   "cell_type": "code",
   "execution_count": 19,
   "metadata": {},
   "outputs": [
    {
     "data": {
      "image/png": "[encoded data removed]",
      "text/plain": [
       "<Figure size 432x288 with 1 Axes>"
      ]
     },
     "metadata": {},
     "output_type": "display_data"
    }
   ],
   "source": [
    "TA_df.loc[TA_df['source'] == 'Paris'].boxplot(column=['delay'],by='org', rot=90).get_figure()\n",
    "plt.title(\"Delay(ms) vs Organization / ISP for Trans-Atlantic Links where source of path is Paris\")\n",
    "# get rid of the automatic 'Boxplot grouped by group_by_column_name' title\n",
    "plt.suptitle(\"\")\n",
    "plt.xlabel = \"Organization / ISP\"\n",
    "plt.ylabel = \"Delay (ms)\"\n",
    "plt.show()"
   ]
  },
  {
   "cell_type": "code",
   "execution_count": 21,
   "metadata": {},
   "outputs": [
    {
     "data": {
      "image/png": "[encoded data removed]",
      "text/plain": [
       "<Figure size 432x288 with 1 Axes>"
      ]
     },
     "metadata": {},
     "output_type": "display_data"
    }
   ],
   "source": [
    "TA_df.loc[TA_df['source'] == 'Amsterdam'].boxplot(column=['delay'],by='org', rot=90).get_figure()\n",
    "plt.title(\"Delay(ms) vs Organization / ISP for Trans-Atlantic Links where source of path is Amsterdam\")\n",
    "# get rid of the automatic 'Boxplot grouped by group_by_column_name' title\n",
    "plt.suptitle(\"\")\n",
    "plt.xlabel = \"Organization / ISP\"\n",
    "plt.ylabel = \"Delay (ms)\"\n",
    "plt.show()"
   ]
  },
  {
   "cell_type": "code",
   "execution_count": 20,
   "metadata": {},
   "outputs": [
    {
     "data": {
      "image/png": "[encoded data removed]",
      "text/plain": [
       "<Figure size 432x288 with 1 Axes>"
      ]
     },
     "metadata": {},
     "output_type": "display_data"
    }
   ],
   "source": [
    "TA_df.loc[TA_df['source'] == 'Frankfurt'].boxplot(column=['delay'],by='org', rot=90).get_figure()\n",
    "plt.title(\"Delay(ms) vs Organization / ISP for Trans-Atlantic Links where source of path is Frankfurt\")\n",
    "# get rid of the automatic 'Boxplot grouped by group_by_column_name' title\n",
    "plt.suptitle(\"\")\n",
    "plt.xlabel = \"Organization / ISP\"\n",
    "plt.ylabel = \"Delay (ms)\"\n",
    "plt.show()"
   ]
  },
  {
   "cell_type": "code",
   "execution_count": 69,
   "metadata": {},
   "outputs": [
    {
     "data": {
      "image/png": "[encoded data removed]",
      "text/plain": [
       "<Figure size 432x288 with 1 Axes>"
      ]
     },
     "metadata": {},
     "output_type": "display_data"
    }
   ],
   "source": [
    "Frankfurt_org_delay = TA_df.loc[TA_df['source'] == 'Frankfurt'].boxplot(column=['delay'],by='org', rot=90).get_figure()\n",
    "Frankfurt_org_delay.savefig('Frankfurt_org_delay.pdf')"
   ]
  },
  {
   "cell_type": "code",
   "execution_count": 22,
   "metadata": {},
   "outputs": [
    {
     "data": {
      "image/png": "[encoded data removed]",
      "text/plain": [
       "<Figure size 432x288 with 1 Axes>"
      ]
     },
     "metadata": {},
     "output_type": "display_data"
    }
   ],
   "source": [
    "TA_df.boxplot(column=['delay'],by='source', rot=90).get_figure()\n",
    "plt.title(\"Delay(ms) vs Source for Trans-Atlantic Links\")\n",
    "# get rid of the automatic 'Boxplot grouped by group_by_column_name' title\n",
    "plt.suptitle(\"\")\n",
    "plt.xlabel = \"Source\"\n",
    "plt.ylabel = \"Delay (ms)\"\n",
    "plt.show()"
   ]
  },
  {
   "cell_type": "code",
   "execution_count": 27,
   "metadata": {},
   "outputs": [
    {
     "data": {
      "text/plain": [
       "Telia Company          37\n",
       "Hurricane Electric      9\n",
       "NTT America             6\n",
       "Bravatas                3\n",
       "Tata Communications     3\n",
       "Level 3                 2\n",
       "Unknown                 1\n",
       "Zayo Bandwidth          1\n",
       "Name: org, dtype: int64"
      ]
     },
     "execution_count": 27,
     "metadata": {},
     "output_type": "execute_result"
    }
   ],
   "source": [
    "TA_df['org'].value_counts()"
   ]
  },
  {
   "cell_type": "code",
   "execution_count": null,
   "metadata": {},
   "outputs": [],
   "source": [
    "df = pd.DataFrame({'speed': speed,\n",
    "                   'lifespan': lifespan}, index=index)\n",
    "ax = df.plot.bar(rot=0)"
   ]
  },
  {
   "cell_type": "code",
   "execution_count": 41,
   "metadata": {},
   "outputs": [
    {
     "data": {
      "text/plain": [
       "<matplotlib.axes._subplots.AxesSubplot at 0x7fee7a933860>"
      ]
     },
     "execution_count": 41,
     "metadata": {},
     "output_type": "execute_result"
    }
   ],
   "source": [
    "TA_df.plot.scatter(x='hour',\n",
    "                      y='delay',\n",
    "                      c='org_num',\n",
    "                      colormap='viridis')"
   ]
  },
  {
   "cell_type": "code",
   "execution_count": 24,
   "metadata": {},
   "outputs": [
    {
     "data": {
      "text/plain": [
       "3875"
      ]
     },
     "execution_count": 24,
     "metadata": {},
     "output_type": "execute_result"
    }
   ],
   "source": [
    "len(combined_df)"
   ]
  },
  {
   "cell_type": "code",
   "execution_count": 26,
   "metadata": {},
   "outputs": [
    {
     "data": {
      "text/plain": [
       "861"
      ]
     },
     "execution_count": 26,
     "metadata": {},
     "output_type": "execute_result"
    }
   ],
   "source": [
    "len(combined_df.loc[combined_df['IP'] == '???'])"
   ]
  },
  {
   "cell_type": "code",
   "execution_count": 28,
   "metadata": {},
   "outputs": [
    {
     "data": {
      "text/plain": [
       "0.22219354838709676"
      ]
     },
     "execution_count": 28,
     "metadata": {},
     "output_type": "execute_result"
    }
   ],
   "source": [
    "len(combined_df.loc[combined_df['IP'] == '???']) / len(combined_df)"
   ]
  },
  {
   "cell_type": "code",
   "execution_count": 29,
   "metadata": {},
   "outputs": [
    {
     "data": {
      "text/plain": [
       "Index(['Unnamed: 0', 'IP', 'Loss', 'Snt', 'Last', 'Avg', 'Best', 'Wrst',\n",
       "       'StDev', 'time', 'hop', 'source', 'route_number', 'email', 'IP_ISP',\n",
       "       'zip_code', 'time_zone', 'area', 'as', 'city', 'country', 'countryCode',\n",
       "       'isp', 'lat', 'lon', 'org', 'region', 'regionName', 'status',\n",
       "       'timezone', 'zip', 'message', 'asn', 'cont_code'],\n",
       "      dtype='object')"
      ]
     },
     "execution_count": 29,
     "metadata": {},
     "output_type": "execute_result"
    }
   ],
   "source": [
    "combined_df.columns"
   ]
  },
  {
   "cell_type": "code",
   "execution_count": 32,
   "metadata": {},
   "outputs": [
    {
     "data": {
      "text/plain": [
       "264"
      ]
     },
     "execution_count": 32,
     "metadata": {},
     "output_type": "execute_result"
    }
   ],
   "source": [
    "len(combined_df.loc[(combined_df['IP'] != '???') & (combined_df['status'] == 'fail')])"
   ]
  },
  {
   "cell_type": "code",
   "execution_count": 34,
   "metadata": {},
   "outputs": [
    {
     "data": {
      "text/plain": [
       "3014"
      ]
     },
     "execution_count": 34,
     "metadata": {},
     "output_type": "execute_result"
    }
   ],
   "source": [
    "len(combined_df.loc[(combined_df['IP'] != '???')])"
   ]
  },
  {
   "cell_type": "code",
   "execution_count": 35,
   "metadata": {},
   "outputs": [
    {
     "data": {
      "text/plain": [
       "0.08759124087591241"
      ]
     },
     "execution_count": 35,
     "metadata": {},
     "output_type": "execute_result"
    }
   ],
   "source": [
    "264 / 3014"
   ]
  },
  {
   "cell_type": "code",
   "execution_count": 43,
   "metadata": {},
   "outputs": [
    {
     "data": {
      "image/png": "[encoded data removed]",
      "text/plain": [
       "<Figure size 432x288 with 1 Axes>"
      ]
     },
     "metadata": {},
     "output_type": "display_data"
    }
   ],
   "source": [
    "fig1, ax1 = plt.subplots()\n",
    "ax1.pie([\n",
    "    len(combined_df.loc[(combined_df['IP'] != '???') & (combined_df['status'] != 'fail')]),\n",
    "    len(combined_df.loc[(combined_df['IP'] != '???') & (combined_df['status'] == 'fail')]),\n",
    "    len(combined_df.loc[combined_df['IP'] == '???']),\n",
    "], \n",
    "    labels=['Recieved packets and IP lookup was successfull',\n",
    "            'Recieved packets and IP lookup was unssuccessfull',\n",
    "            'Did not recieve back packets'],\n",
    "    autopct='%1.1f%%',\n",
    "    shadow=True, startangle=90\n",
    ")\n",
    "plt.show()"
   ]
  },
  {
   "cell_type": "code",
   "execution_count": null,
   "metadata": {},
   "outputs": [],
   "source": []
  }
 ],
 "metadata": {
  "kernelspec": {
   "display_name": "Python 3",
   "language": "python",
   "name": "python3"
  },
  "language_info": {
   "codemirror_mode": {
    "name": "ipython",
    "version": 3
   },
   "file_extension": ".py",
   "mimetype": "text/x-python",
   "name": "python",
   "nbconvert_exporter": "python",
   "pygments_lexer": "ipython3",
   "version": "3.6.10"
  }
 },
 "nbformat": 4,
 "nbformat_minor": 2
}
