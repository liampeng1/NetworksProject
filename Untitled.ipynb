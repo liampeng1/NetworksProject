{
 "cells": [
  {
   "cell_type": "code",
   "execution_count": 41,
   "metadata": {},
   "outputs": [],
   "source": [
    "import pandas as pd"
   ]
  },
  {
   "cell_type": "code",
   "execution_count": 50,
   "metadata": {},
   "outputs": [],
   "source": [
    "combined_df = pd.read_csv('combined_df.csv')"
   ]
  },
  {
   "cell_type": "code",
   "execution_count": 43,
   "metadata": {},
   "outputs": [],
   "source": [
    "paris_df = combined_df.loc[combined_df['source'] == 'Paris']"
   ]
  },
  {
   "cell_type": "code",
   "execution_count": 60,
   "metadata": {},
   "outputs": [],
   "source": [
    "paris_routes = paris_df.groupby('time')"
   ]
  },
  {
   "cell_type": "code",
   "execution_count": 45,
   "metadata": {},
   "outputs": [
    {
     "data": {
      "text/plain": [
       "Index(['Unnamed: 0', 'IP', 'Loss', 'Snt', 'Last', 'Avg', 'Best', 'Wrst',\n",
       "       'StDev', 'time', 'hop', 'source', 'route_number', 'email', 'IP_ISP',\n",
       "       'zip_code', 'time_zone', 'area', 'as', 'city', 'country', 'countryCode',\n",
       "       'isp', 'lat', 'lon', 'org', 'region', 'regionName', 'status',\n",
       "       'timezone', 'zip', 'message', 'asn', 'cont_code'],\n",
       "      dtype='object')"
      ]
     },
     "execution_count": 45,
     "metadata": {},
     "output_type": "execute_result"
    }
   ],
   "source": [
    "combined_df.columns"
   ]
  },
  {
   "cell_type": "code",
   "execution_count": 46,
   "metadata": {
    "scrolled": true
   },
   "outputs": [
    {
     "data": {
      "text/plain": [
       "0              NaN\n",
       "1            Hesse\n",
       "2            Hesse\n",
       "3            Hesse\n",
       "4    Île-de-France\n",
       "5         Virginia\n",
       "6         Virginia\n",
       "7         Virginia\n",
       "8         Illinois\n",
       "9         Virginia\n",
       "Name: regionName, dtype: object"
      ]
     },
     "execution_count": 46,
     "metadata": {},
     "output_type": "execute_result"
    }
   ],
   "source": [
    "combined_df['regionName'][:10]"
   ]
  },
  {
   "cell_type": "code",
   "execution_count": 62,
   "metadata": {
    "scrolled": false
   },
   "outputs": [
    {
     "name": "stdout",
     "output_type": "stream",
     "text": [
      "           country   hop                                 org    Avg\n",
      "117            NaN   0.0                                 NaN    0.0\n",
      "118         France   1.0                 Vultr Holdings, LLC    4.8\n",
      "119            NaN   2.0                                 NaN    0.0\n",
      "120            NaN   3.0                                 NaN    0.0\n",
      "121         France   4.0                           Tinet SpA   12.0\n",
      "122  United States   5.0                            Bravatas   80.2\n",
      "123         France   6.0                          Tinet GmbH   77.5\n",
      "124  United States   7.0  Comcast Cable Communications, Inc.   79.1\n",
      "125  United States   8.0  Comcast Cable Communications, Inc.   96.6\n",
      "126  United States   9.0         Comcast IP Services, L.L.C.   96.7\n",
      "127  United States  10.0         Comcast IP Services, L.L.C.   96.1\n",
      "128  United States  11.0   Comcast Cable Communications, LLC   96.8\n",
      "129  United States  12.0   Comcast Cable Communications, LLC   96.7\n",
      "130  United States  13.0         Comcast IP Services, L.L.C.  110.7\n",
      "-----------------------------\n",
      "            country   hop                      org   Avg\n",
      "301             NaN   0.0                      NaN   0.0\n",
      "302          France   1.0      Vultr Holdings, LLC   3.9\n",
      "303             NaN   2.0                      NaN   0.0\n",
      "304             NaN   3.0                      NaN   0.0\n",
      "305          France   4.0         NTT Europe, Ltd.   1.1\n",
      "306  United Kingdom   5.0        NTT America, Inc.   7.0\n",
      "307  United Kingdom   6.0        NTT America, Inc.   6.8\n",
      "308   United States   7.0        NTT America, Inc.  77.7\n",
      "309   United States   8.0        NTT America, Inc.  74.6\n",
      "310   United States   9.0  ANS Communications, Inc  74.8\n",
      "311   United States  10.0  ANS CO+RE Systems, Inc.  78.4\n",
      "312   United States  11.0   Verizon Communications  75.6\n",
      "313   United States  12.0       Verizon Online LLC  78.7\n",
      "-----------------------------\n",
      "           country   hop                      org    Avg\n",
      "472            NaN   0.0                      NaN    0.0\n",
      "473         France   1.0      Vultr Holdings, LLC    0.7\n",
      "474         Canada   2.0          GameServers.com    1.1\n",
      "475         Canada   3.0          GameServers.com   10.1\n",
      "476         France   4.0  France IX Services SASU    0.9\n",
      "477  United States   5.0       Hurricane Electric   71.1\n",
      "478  United States   6.0   Cox Communications Inc   71.4\n",
      "479  United States   7.0  Cox Communications Inc.   76.6\n",
      "480  United States   8.0   Cox Communications Inc   83.1\n",
      "481  United States   9.0   Cox Communications Inc   81.0\n",
      "482            NaN  10.0                      NaN  134.6\n",
      "483            NaN  11.0                      NaN  601.1\n",
      "-----------------------------\n",
      "           country   hop                  org   Avg\n",
      "662            NaN   0.0                  NaN   0.0\n",
      "663         France   1.0  Vultr Holdings, LLC  25.0\n",
      "664            NaN   2.0                  NaN   0.0\n",
      "665            NaN   3.0                  NaN   0.0\n",
      "666         France   4.0     Telia Company AB   3.4\n",
      "667            NaN   5.0                  NaN   0.0\n",
      "668            NaN   6.0                  NaN   0.0\n",
      "669  United States   7.0     Telia Company AB  75.9\n",
      "670    Netherlands   8.0       TeliaSonera AB  76.5\n",
      "671  United States   9.0     Telia Company AB  80.5\n",
      "672            NaN  10.0                  NaN   0.0\n",
      "673            NaN  11.0                  NaN   0.0\n",
      "674  United States  12.0       Optimum Online  84.7\n",
      "675            NaN  13.0                  NaN   0.0\n",
      "-----------------------------\n",
      "           country   hop                  org    Avg\n",
      "831            NaN   0.0                  NaN    0.0\n",
      "832         France   1.0  Vultr Holdings, LLC    3.8\n",
      "833            NaN   2.0                  NaN    0.0\n",
      "834            NaN   3.0                  NaN    0.0\n",
      "835         France   4.0     Telia Company AB    1.3\n",
      "836         France   5.0     Telia Company AB  124.0\n",
      "837  United States   6.0     Telia Company AB   94.1\n",
      "838  United States   7.0     Telia Company AB  110.1\n",
      "839        Finland   8.0            Telia TIC  131.8\n",
      "840  United States   9.0     Telia Company AB  116.1\n",
      "841            NaN  10.0                  NaN    0.0\n",
      "-----------------------------\n",
      "           country   hop                      org   Avg\n",
      "957            NaN   0.0                      NaN   0.0\n",
      "958         France   1.0      Vultr Holdings, LLC   3.5\n",
      "959            NaN   2.0                      NaN   0.0\n",
      "960            NaN   3.0                      NaN   0.0\n",
      "961         France   4.0         Telia Company AB   1.1\n",
      "962         France   5.0         Telia Company AB  93.9\n",
      "963  United States   6.0         Telia Company AB  95.1\n",
      "964  United States   7.0         Telia Company AB  89.0\n",
      "965         France   8.0              De Telianet  96.9\n",
      "966  United States   9.0  ANS CO+RE Systems, Inc.  90.6\n",
      "967  United States  10.0   Verizon Communications  87.7\n",
      "968  United States  11.0       Verizon Online LLC  93.8\n",
      "-----------------------------\n",
      "            country   hop                             org    Avg\n",
      "1148            NaN   0.0                             NaN    0.0\n",
      "1149         France   1.0             Vultr Holdings, LLC    3.9\n",
      "1150            NaN   2.0                             NaN    0.0\n",
      "1151            NaN   3.0                             NaN    0.0\n",
      "1152         France   4.0                Telia Company AB    1.1\n",
      "1153            NaN   5.0                             NaN    0.0\n",
      "1154  United States   6.0                Telia Company AB   89.6\n",
      "1155  United States   7.0                Telia Company AB  101.4\n",
      "1156  United States   8.0                Telia Company AB  128.2\n",
      "1157  United States   9.0                Telia Company AB  113.7\n",
      "1158  United States  10.0  Time Warner Cable Internet LLC  111.7\n",
      "1159  United States  11.0  Time Warner Cable Internet LLC  110.5\n",
      "1160  United States  12.0                        Spectrum  112.7\n",
      "1161  United States  13.0                        Spectrum  134.9\n",
      "1162  United States  14.0                        Spectrum  113.6\n",
      "1163            NaN  15.0                             NaN    0.0\n",
      "1164  United States  16.0                        Spectrum  138.0\n",
      "-----------------------------\n",
      "            country   hop                                 org   Avg\n",
      "1383            NaN   0.0                                 NaN   0.0\n",
      "1384         France   1.0                 Vultr Holdings, LLC   5.8\n",
      "1385            NaN   2.0                                 NaN   0.0\n",
      "1386            NaN   3.0                                 NaN   0.0\n",
      "1387         France   4.0                           Tinet SpA   0.8\n",
      "1388  United States   5.0                            Bravatas  81.6\n",
      "1389         France   6.0                          Tinet GmbH  77.3\n",
      "1390  United States   7.0  Comcast Cable Communications, Inc.  79.0\n",
      "1391  United States   8.0  Comcast Cable Communications, Inc.  79.4\n",
      "1392  United States   9.0  Comcast Cable Communications, Inc.  91.4\n",
      "1393  United States  10.0   Comcast Cable Communications, LLC  82.8\n",
      "1394  United States  11.0   Comcast Cable Communications, LLC  86.1\n",
      "1395  United States  12.0  Comcast Cable Communications, Inc.  82.8\n",
      "1396  United States  13.0  Comcast Cable Communications, Inc.  90.7\n",
      "-----------------------------\n",
      "             country  hop                      org   Avg\n",
      "1467             NaN  0.0                      NaN   0.0\n",
      "1468          France  1.0      Vultr Holdings, LLC   3.5\n",
      "1469             NaN  2.0                      NaN   0.0\n",
      "1470             NaN  3.0                      NaN   0.0\n",
      "1471          France  4.0                 Ipercast   1.1\n",
      "1472  United Kingdom  5.0             Level 3, LLC  83.1\n",
      "1473   United States  6.0                  Level 3  83.2\n",
      "1474   United States  7.0  Cox Communications Inc.  89.5\n",
      "1475             NaN  8.0                      NaN   0.0\n",
      "-----------------------------\n",
      "             country   hop                     org   Avg\n",
      "1600             NaN   0.0                     NaN   0.0\n",
      "1601          France   1.0     Vultr Holdings, LLC   3.5\n",
      "1602             NaN   2.0                     NaN   0.0\n",
      "1603             NaN   3.0                     NaN   0.0\n",
      "1604          France   4.0        NTT Europe, Ltd.   1.0\n",
      "1605  United Kingdom   5.0       NTT America, Inc.   8.5\n",
      "1606  United Kingdom   6.0       NTT America, Inc.   7.3\n",
      "1607   United States   7.0       NTT America, Inc.  75.3\n",
      "1608   United States   8.0       NTT America, Inc.  75.0\n",
      "1609   United States   9.0  Verizon Communications  75.9\n",
      "1610   United States  10.0  Verizon Communications  81.8\n",
      "1611             NaN  11.0                     NaN   0.0\n",
      "-----------------------------\n",
      "            country   hop                             org    Avg\n",
      "1768            NaN   0.0                             NaN    0.0\n",
      "1769         France   1.0             Vultr Holdings, LLC    3.5\n",
      "1770            NaN   2.0                             NaN    0.0\n",
      "1771            NaN   3.0                             NaN    0.0\n",
      "1772         France   4.0                Telia Company AB    1.4\n",
      "1773            NaN   5.0                             NaN    0.0\n",
      "1774            NaN   6.0                             NaN    0.0\n",
      "1775            NaN   7.0                             NaN    0.0\n",
      "1776  United States   8.0                Telia Company AB   82.5\n",
      "1777  United States   9.0                Telia Company AB   86.2\n",
      "1778  United States  10.0  Time Warner Cable Internet LLC   88.6\n",
      "1779  United States  11.0  Time Warner Cable Internet LLC   93.2\n",
      "1780  United States  12.0                        Spectrum  352.9\n",
      "1781  United States  13.0                        Spectrum  110.2\n",
      "1782  United States  14.0                        Spectrum   95.4\n",
      "1783            NaN  15.0                             NaN    0.0\n",
      "-----------------------------\n",
      "            country   hop                             org    Avg\n",
      "1957            NaN   0.0                             NaN    0.0\n",
      "1958         France   1.0             Vultr Holdings, LLC    4.6\n",
      "1959            NaN   2.0                             NaN    0.0\n",
      "1960            NaN   3.0                             NaN    0.0\n",
      "1961         France   4.0                Telia Company AB    1.8\n",
      "1962            NaN   5.0                             NaN    0.0\n",
      "1963            NaN   6.0                             NaN    0.0\n",
      "1964            NaN   7.0                             NaN    0.0\n",
      "1965  United States   8.0                Telia Company AB   77.4\n",
      "1966  United States   9.0                Telia Company AB   86.6\n",
      "1967  United States  10.0  Time Warner Cable Internet LLC   86.3\n",
      "1968  United States  11.0  Time Warner Cable Internet LLC   91.4\n",
      "1969  United States  12.0                        Spectrum  114.3\n",
      "1970  United States  13.0                        Spectrum   96.7\n",
      "1971            NaN  14.0                             NaN    0.0\n",
      "-----------------------------\n",
      "            country   hop                                 org    Avg\n",
      "2176            NaN   0.0                                 NaN    0.0\n",
      "2177         France   1.0                 Vultr Holdings, LLC    3.5\n",
      "2178            NaN   2.0                                 NaN    0.0\n",
      "2179            NaN   3.0                                 NaN    0.0\n",
      "2180         France   4.0                    Telia Company AB    1.1\n",
      "2181         France   5.0                    Telia Company AB   93.9\n",
      "2182  United States   6.0                    Telia Company AB   95.1\n",
      "2183  United States   7.0                    Telia Company AB   89.1\n",
      "2184  United States   8.0                    Telia Company AB   89.0\n",
      "2185  United States   9.0  Comcast Cable Communications, Inc.   90.7\n",
      "2186  United States  10.0  Comcast Cable Communications, Inc.   93.0\n",
      "2187  United States  11.0  Comcast Cable Communications, Inc.   90.4\n",
      "2188  United States  12.0  Comcast Cable Communications, Inc.   99.6\n",
      "2189  United States  13.0   Comcast Cable Communications, Inc  108.1\n",
      "2190  United States  14.0         Comcast IP Services, L.L.C.  109.3\n",
      "2191  United States  15.0   Comcast Cable Communications, LLC  109.2\n",
      "2192            NaN  16.0                                 NaN    0.0\n",
      "-----------------------------\n",
      "             country   hop                      org   Avg\n",
      "2363             NaN   0.0                      NaN   0.0\n",
      "2364          France   1.0      Vultr Holdings, LLC   6.2\n",
      "2365             NaN   2.0                      NaN   0.0\n",
      "2366             NaN   3.0                      NaN   0.0\n",
      "2367          France   4.0         NTT Europe, Ltd.   0.8\n",
      "2368  United Kingdom   5.0        NTT America, Inc.   7.7\n",
      "2369  United Kingdom   6.0        NTT America, Inc.   7.6\n",
      "2370   United States   7.0        NTT America, Inc.  77.0\n",
      "2371   United States   8.0        NTT America, Inc.  75.4\n",
      "2372   United States   9.0  ANS Communications, Inc  75.4\n",
      "2373   United States  10.0   Verizon Communications  81.7\n",
      "2374   United States  11.0   Verizon Communications  87.3\n",
      "-----------------------------\n",
      "            country   hop                  org   Avg\n",
      "2546            NaN   0.0                  NaN   0.0\n",
      "2547         France   1.0  Vultr Holdings, LLC   0.6\n",
      "2548            NaN   2.0                  NaN   0.0\n",
      "2549            NaN   3.0                  NaN   0.0\n",
      "2550            NaN   4.0                  NaN   0.7\n",
      "2551            NaN   5.0                  NaN  74.9\n",
      "2552            NaN   6.0                  NaN  80.0\n",
      "2553            NaN   7.0                  NaN  81.9\n",
      "2554            NaN   8.0                  NaN  82.5\n",
      "2555  United States   9.0    AT&T Mobility LLC  79.9\n",
      "2556  United States  10.0    AT&T Mobility LLC  76.6\n",
      "2557  United States  11.0    AT&T Mobility LLC  76.2\n",
      "-----------------------------\n",
      "            country  hop                           org    Avg\n",
      "2729            NaN  0.0                           NaN    0.0\n",
      "2730         France  1.0           Vultr Holdings, LLC    8.1\n",
      "2731            NaN  2.0                           NaN    0.0\n",
      "2732            NaN  3.0                           NaN    0.0\n",
      "2733            NaN  4.0                           NaN    0.0\n",
      "2734            NaN  5.0                           NaN    0.0\n",
      "2735  United States  6.0  Level 3 Communications, Inc.  138.6\n",
      "2736  United States  7.0       Cox Communications Inc.  144.0\n",
      "2737            NaN  8.0                           NaN    0.0\n",
      "2738  United States  9.0       Cox Communications Inc.  148.1\n",
      "-----------------------------\n",
      "             country   hop                      org   Avg\n",
      "2858             NaN   0.0                      NaN   0.0\n",
      "2859          France   1.0      Vultr Holdings, LLC   6.0\n",
      "2860             NaN   2.0                      NaN   0.0\n",
      "2861             NaN   3.0                      NaN   0.0\n",
      "2862          France   4.0         Telia Company AB   1.5\n",
      "2863          France   5.0         Telia Company AB  91.7\n",
      "2864   United States   6.0         Telia Company AB  89.7\n",
      "2865  United Kingdom   7.0           TeliaSonera AB  85.8\n",
      "2866          France   8.0              De Telianet  96.5\n",
      "2867   United States   9.0  ANS CO+RE Systems, Inc.  85.4\n",
      "2868   United States  10.0   Verizon Communications  81.7\n",
      "2869   United States  11.0   Verizon Communications  88.1\n",
      "-----------------------------\n",
      "            country   hop                                 org   Avg\n",
      "3033            NaN   0.0                                 NaN   0.0\n",
      "3034         France   1.0                 Vultr Holdings, LLC   4.7\n",
      "3035            NaN   2.0                                 NaN   0.0\n",
      "3036            NaN   3.0                                 NaN   0.0\n",
      "3037         France   4.0                           Tinet SpA   0.6\n",
      "3038  United States   5.0                            Bravatas  77.6\n",
      "3039         France   6.0                          Tinet GmbH  77.5\n",
      "3040  United States   7.0  Comcast Cable Communications, Inc.  79.7\n",
      "3041  United States   8.0  Comcast Cable Communications, Inc.  96.6\n",
      "3042  United States   9.0         Comcast IP Services, L.L.C.  96.3\n",
      "3043  United States  10.0         Comcast IP Services, L.L.C.  96.2\n",
      "3044  United States  11.0   Comcast Cable Communications, LLC  97.5\n",
      "3045  United States  12.0   Comcast Cable Communications, Inc  97.7\n",
      "3046            NaN  13.0                                 NaN   0.0\n",
      "-----------------------------\n",
      "            country   hop                      org    Avg\n",
      "3340            NaN   0.0                      NaN    0.0\n",
      "3341         France   1.0      Vultr Holdings, LLC    2.3\n",
      "3342         Canada   2.0          GameServers.com    1.3\n",
      "3343         Canada   3.0          GameServers.com    4.5\n",
      "3344         France   4.0  France IX Services SASU    4.7\n",
      "3345  United States   5.0       Hurricane Electric   71.7\n",
      "3346  United States   6.0       Hurricane Electric   92.1\n",
      "3347            NaN   7.0                      NaN    0.0\n",
      "3348  United States   8.0   Charter Communications   78.4\n",
      "3349  United States   9.0   Charter Communications   93.7\n",
      "3350  United States  10.0   Charter Communications   90.7\n",
      "3351  United States  11.0   Charter Communications   89.8\n",
      "3352  United States  12.0   Charter Communications   89.2\n",
      "3353            NaN  13.0                      NaN    0.0\n",
      "3354            NaN  14.0                      NaN  100.5\n",
      "3355            NaN  15.0                      NaN  101.2\n",
      "3356            NaN  16.0                      NaN  131.7\n",
      "3357            NaN  17.0                      NaN  103.1\n",
      "3358            NaN  18.0                      NaN  109.5\n",
      "3359            NaN  19.0                      NaN  101.0\n",
      "3360            NaN  20.0                      NaN    0.0\n",
      "3361            NaN  21.0                      NaN    0.0\n",
      "3362            NaN  22.0                      NaN    0.0\n",
      "3363            NaN  23.0                      NaN    0.0\n",
      "3364            NaN  24.0                      NaN  101.6\n",
      "3365            NaN  25.0                      NaN    0.0\n",
      "-----------------------------\n",
      "            country   hop                      org    Avg\n",
      "3567            NaN   0.0                      NaN    0.0\n",
      "3568         France   1.0      Vultr Holdings, LLC    0.6\n",
      "3569         Canada   2.0          GameServers.com    1.2\n",
      "3570         Canada   3.0          GameServers.com    0.9\n",
      "3571         France   4.0  France IX Services SASU    1.1\n",
      "3572  United States   5.0       Hurricane Electric   71.4\n",
      "3573  United States   6.0       Hurricane Electric   76.2\n",
      "3574  United States   7.0       Hurricane Electric   77.1\n",
      "3575  United States   8.0   Charter Communications   81.5\n",
      "3576  United States   9.0   Charter Communications  108.1\n",
      "3577  United States  10.0   Charter Communications  103.8\n",
      "3578  United States  11.0   Charter Communications  103.8\n",
      "3579  United States  12.0   Charter Communications  103.9\n",
      "3580            NaN  13.0                      NaN    0.0\n",
      "3581            NaN  14.0                      NaN  114.2\n",
      "3582            NaN  15.0                      NaN    0.0\n",
      "-----------------------------\n",
      "             country   hop                     org    Avg\n",
      "3777             NaN   0.0                     NaN    0.0\n",
      "3778          France   1.0     Vultr Holdings, LLC    3.4\n",
      "3779             NaN   2.0                     NaN    0.0\n",
      "3780             NaN   3.0                     NaN    0.0\n",
      "3781          France   4.0        NTT Europe, Ltd.    1.0\n",
      "3782  United Kingdom   5.0       NTT America, Inc.    7.7\n",
      "3783  United Kingdom   6.0       NTT America, Inc.    8.0\n",
      "3784   United States   7.0       NTT America, Inc.   74.5\n",
      "3785   United States   8.0       NTT America, Inc.   76.0\n",
      "3786   United States   9.0     AT&T Services, Inc.   78.6\n",
      "3787             NaN  10.0                     NaN    0.0\n",
      "3788             NaN  11.0                     NaN    0.0\n",
      "3789             NaN  12.0                     NaN    0.0\n",
      "3790             NaN  13.0                     NaN    0.0\n",
      "3791   United States  14.0  AT&T Worldnet Services  130.9\n",
      "3792   United States  15.0               AT&T Corp  124.3\n",
      "3793             NaN  16.0                     NaN    0.0\n",
      "-----------------------------\n"
     ]
    }
   ],
   "source": [
    "for name, group in paris_routes:\n",
    "    print (group[['country', 'hop', 'org', 'Avg']])\n",
    "    print ('-----------------------------')"
   ]
  },
  {
   "cell_type": "code",
   "execution_count": 48,
   "metadata": {},
   "outputs": [
    {
     "data": {
      "text/plain": [
       "['Amsterdam',\n",
       " 'Tokyo',\n",
       " 'Seattle',\n",
       " 'Dallas',\n",
       " 'Sydney',\n",
       " 'Toronto',\n",
       " 'Paris',\n",
       " 'Miami',\n",
       " 'New York',\n",
       " 'Frankfurt',\n",
       " 'London',\n",
       " 'Bangalore',\n",
       " 'San Francisco',\n",
       " 'Singapore']"
      ]
     },
     "execution_count": 48,
     "metadata": {},
     "output_type": "execute_result"
    }
   ],
   "source": [
    "list(set(combined_df['source']))"
   ]
  },
  {
   "cell_type": "code",
   "execution_count": 56,
   "metadata": {},
   "outputs": [
    {
     "data": {
      "text/plain": [
       "Index(['Unnamed: 0', 'IP', 'Loss', 'Snt', 'Last', 'Avg', 'Best', 'Wrst',\n",
       "       'StDev', 'time', 'hop', 'source', 'route_number', 'email', 'IP_ISP',\n",
       "       'zip_code', 'time_zone', 'area', 'as', 'city', 'country', 'countryCode',\n",
       "       'isp', 'lat', 'lon', 'org', 'region', 'regionName', 'status',\n",
       "       'timezone', 'zip', 'message', 'asn', 'cont_code'],\n",
       "      dtype='object')"
      ]
     },
     "execution_count": 56,
     "metadata": {},
     "output_type": "execute_result"
    }
   ],
   "source": [
    "combined_df.columns"
   ]
  },
  {
   "cell_type": "code",
   "execution_count": 145,
   "metadata": {
    "scrolled": false
   },
   "outputs": [],
   "source": [
    "TA_df = pd.DataFrame(columns=['delay', 'source', 'org', 'time'])\n",
    "for source in ['Amsterdam','Paris','Frankfurt']:\n",
    "    city_routes = combined_df.loc[combined_df['source'] == source]\n",
    "    for time, group in city_routes.groupby('time'):\n",
    "#         print (group[['hop', 'Avg', 'source']])\n",
    "        # get max change\n",
    "        last = 0\n",
    "        TA_delay = 0\n",
    "        org = ''\n",
    "        threshold = 50\n",
    "        for index, row in group.iterrows():\n",
    "            if row['Avg'] > 0.0:\n",
    "                avg_change = row['Avg'] - last\n",
    "                if avg_change > threshold:\n",
    "                    org = row['org']\n",
    "                    TA_delay = avg_change\n",
    "                    max_hop = row['hop']\n",
    "                    break\n",
    "                last = row['Avg']\n",
    "        # get min after that\n",
    "        min_after = TA_delay\n",
    "        for index, row in group.loc[group['hop'] >= max_hop].iterrows():\n",
    "            if row['Avg'] > 0:\n",
    "                if row['Avg'] - last < min_after:\n",
    "                    min_after = row['Avg'] - last\n",
    "        TA_delay = min_after\n",
    "        TA_df = TA_df.append({'delay':TA_delay, 'source':source, 'org':org, 'time':time}, ignore_index=True)\n",
    "            "
   ]
  },
  {
   "cell_type": "code",
   "execution_count": 147,
   "metadata": {},
   "outputs": [],
   "source": [
    "TA_df['hour'] = TA_df['time'].apply(lambda time : int(time.split('T')[1].split(':')[0]))"
   ]
  },
  {
   "cell_type": "code",
   "execution_count": 149,
   "metadata": {},
   "outputs": [],
   "source": [
    "import matplotlib.pyplot as plt"
   ]
  },
  {
   "cell_type": "code",
   "execution_count": 150,
   "metadata": {},
   "outputs": [],
   "source": [
    "paris = TA_df.loc[TA_df['source'] == 'Paris']"
   ]
  },
  {
   "cell_type": "code",
   "execution_count": 151,
   "metadata": {},
   "outputs": [
    {
     "data": {
      "image/png": "[encoded data removed]",
      "text/plain": [
       "<Figure size 432x288 with 1 Axes>"
      ]
     },
     "metadata": {},
     "output_type": "display_data"
    }
   ],
   "source": [
    "paris.plot(kind='scatter',x='hour',y='delay',color='red')\n",
    "plt.show()"
   ]
  },
  {
   "cell_type": "code",
   "execution_count": 152,
   "metadata": {},
   "outputs": [],
   "source": [
    "amsterdam = TA_df.loc[TA_df['source'] == 'Amsterdam']"
   ]
  },
  {
   "cell_type": "code",
   "execution_count": 153,
   "metadata": {},
   "outputs": [
    {
     "data": {
      "image/png": "[encoded data removed]",
      "text/plain": [
       "<Figure size 432x288 with 1 Axes>"
      ]
     },
     "metadata": {},
     "output_type": "display_data"
    }
   ],
   "source": [
    "amsterdam.plot(kind='scatter',x='hour',y='delay',color='red')\n",
    "plt.show()"
   ]
  },
  {
   "cell_type": "code",
   "execution_count": 154,
   "metadata": {},
   "outputs": [],
   "source": [
    "frankfurt = TA_df.loc[TA_df['source'] == 'Frankfurt']"
   ]
  },
  {
   "cell_type": "code",
   "execution_count": 155,
   "metadata": {},
   "outputs": [
    {
     "data": {
      "image/png": "[encoded data removed]",
      "text/plain": [
       "<Figure size 432x288 with 1 Axes>"
      ]
     },
     "metadata": {},
     "output_type": "display_data"
    }
   ],
   "source": [
    "frankfurt.plot(kind='scatter',x='hour',y='delay',color='red')\n",
    "plt.show()"
   ]
  },
  {
   "cell_type": "code",
   "execution_count": 156,
   "metadata": {},
   "outputs": [
    {
     "name": "stdout",
     "output_type": "stream",
     "text": [
      "    delay source                           org                      time  hour\n",
      "20   65.5  Paris                      Bravatas  2020-04-14T01:29:06+0000     1\n",
      "21   67.8  Paris             NTT America, Inc.  2020-04-14T01:34:31+0000     1\n",
      "22   70.2  Paris            Hurricane Electric  2020-04-14T01:35:32+0000     1\n",
      "23   72.5  Paris              Telia Company AB  2020-04-14T01:40:12+0000     1\n",
      "24   92.8  Paris              Telia Company AB  2020-04-14T01:48:07+0000     1\n",
      "25   86.6  Paris              Telia Company AB  2020-04-14T01:48:16+0000     1\n",
      "26   88.5  Paris              Telia Company AB  2020-04-14T02:33:45+0000     2\n",
      "27   76.5  Paris                      Bravatas  2020-04-14T13:55:46+0000    13\n",
      "28   82.0  Paris                  Level 3, LLC  2020-04-14T16:23:17+0000    16\n",
      "29   67.7  Paris             NTT America, Inc.  2020-04-14T17:49:32+0000    17\n",
      "30   81.1  Paris              Telia Company AB  2020-04-14T18:03:48+0000    18\n",
      "31   75.6  Paris              Telia Company AB  2020-04-14T18:21:59+0000    18\n",
      "32   87.9  Paris              Telia Company AB  2020-04-14T18:50:48+0000    18\n",
      "33   67.8  Paris             NTT America, Inc.  2020-04-14T21:45:23+0000    21\n",
      "34   74.2  Paris                           NaN  2020-04-15T01:06:42+0000     1\n",
      "35  130.5  Paris  Level 3 Communications, Inc.  2020-04-15T06:58:46+0000     6\n",
      "36   80.2  Paris              Telia Company AB  2020-04-15T14:53:49+0000    14\n",
      "37   76.9  Paris                      Bravatas  2020-04-16T03:47:58+0000     3\n",
      "38   67.0  Paris            Hurricane Electric  2020-04-16T20:16:20+0000    20\n",
      "39   70.3  Paris            Hurricane Electric  2020-04-16T22:23:26+0000    22\n",
      "40   66.5  Paris             NTT America, Inc.  2020-04-16T22:36:32+0000    22\n"
     ]
    }
   ],
   "source": [
    "print (paris)"
   ]
  },
  {
   "cell_type": "code",
   "execution_count": 157,
   "metadata": {},
   "outputs": [
    {
     "name": "stdout",
     "output_type": "stream",
     "text": [
      "    delay     source                org                      time  hour\n",
      "41   92.3  Frankfurt   Telia Company AB  2020-04-14T01:29:03+0000     1\n",
      "42   92.0  Frankfurt   Telia Company AB  2020-04-14T01:34:28+0000     1\n",
      "43   80.5  Frankfurt  NTT America, Inc.  2020-04-14T01:35:28+0000     1\n",
      "44   87.5  Frankfurt   Telia Company AB  2020-04-14T01:40:09+0000     1\n",
      "45   90.8  Frankfurt   Telia Company AB  2020-04-14T01:48:04+0000     1\n",
      "46   87.5  Frankfurt   Telia Company AB  2020-04-14T01:48:13+0000     1\n",
      "47   90.8  Frankfurt   Telia Company AB  2020-04-14T02:33:42+0000     2\n",
      "48   95.1  Frankfurt   Telia Company AB  2020-04-14T13:55:43+0000    13\n",
      "49   84.2  Frankfurt  NTT America, Inc.  2020-04-14T16:23:14+0000    16\n",
      "50   93.9  Frankfurt   Telia Company AB  2020-04-14T17:49:29+0000    17\n",
      "51   85.6  Frankfurt   Telia Company AB  2020-04-14T18:03:45+0000    18\n",
      "52   85.7  Frankfurt   Telia Company AB  2020-04-14T18:21:56+0000    18\n",
      "53   95.5  Frankfurt   Telia Company AB  2020-04-14T18:50:45+0000    18\n",
      "54   95.2  Frankfurt   Telia Company AB  2020-04-14T21:45:20+0000    21\n",
      "55   91.6  Frankfurt   Telia Company AB  2020-04-15T01:06:39+0000     1\n",
      "56   96.2  Frankfurt   Telia Company AB  2020-04-15T06:58:43+0000     6\n",
      "57   92.8  Frankfurt   Telia Company AB  2020-04-15T14:53:46+0000    14\n",
      "58   87.5  Frankfurt   Telia Company AB  2020-04-16T03:47:55+0000     3\n",
      "59   97.3  Frankfurt   Telia Company AB  2020-04-16T20:16:17+0000    20\n",
      "60  100.1  Frankfurt   Telia Company AB  2020-04-16T22:23:23+0000    22\n",
      "61   87.2  Frankfurt   Telia Company AB  2020-04-16T22:36:29+0000    22\n"
     ]
    }
   ],
   "source": [
    "print (frankfurt)"
   ]
  },
  {
   "cell_type": "code",
   "execution_count": 158,
   "metadata": {},
   "outputs": [
    {
     "name": "stdout",
     "output_type": "stream",
     "text": [
      "    delay     source                       org                      time  hour\n",
      "0    75.2  Amsterdam  Tata Communications Ltd.  2020-04-14T01:29:06+0000     1\n",
      "1    89.8  Amsterdam          Telia Company AB  2020-04-14T01:34:32+0000     1\n",
      "2    58.6  Amsterdam        Hurricane Electric  2020-04-14T01:35:33+0000     1\n",
      "3    75.9  Amsterdam            Zayo Bandwidth  2020-04-14T01:40:13+0000     1\n",
      "4    67.4  Amsterdam    Hurricane Electric LLC  2020-04-14T01:48:08+0000     1\n",
      "5    86.6  Amsterdam          Telia Company AB  2020-04-14T01:48:17+0000     1\n",
      "6    91.5  Amsterdam          Telia Company AB  2020-04-14T02:33:46+0000     2\n",
      "7    66.1  Amsterdam    Hurricane Electric LLC  2020-04-14T16:23:18+0000    16\n",
      "8    83.5  Amsterdam          Telia Company AB  2020-04-14T17:49:33+0000    17\n",
      "9    73.9  Amsterdam          Telia Company AB  2020-04-14T18:03:49+0000    18\n",
      "10   74.1  Amsterdam          Telia Company AB  2020-04-14T18:22:00+0000    18\n",
      "11   69.1  Amsterdam  Tata Communications Ltd.  2020-04-14T18:50:49+0000    18\n",
      "12   83.8  Amsterdam          Telia Company AB  2020-04-14T21:45:23+0000    21\n",
      "13   86.7  Amsterdam          Telia Company AB  2020-04-15T01:06:43+0000     1\n",
      "14   58.8  Amsterdam    Hurricane Electric LLC  2020-04-15T06:58:47+0000     6\n",
      "15   88.7  Amsterdam          Telia Company AB  2020-04-15T14:53:49+0000    14\n",
      "16   74.9  Amsterdam  Tata Communications Ltd.  2020-04-16T03:47:59+0000     3\n",
      "17   52.0  Amsterdam        Hurricane Electric  2020-04-16T20:16:21+0000    20\n",
      "18   59.0  Amsterdam        Hurricane Electric  2020-04-16T22:23:27+0000    22\n",
      "19   92.0  Amsterdam          Telia Company AB  2020-04-16T22:36:33+0000    22\n"
     ]
    }
   ],
   "source": [
    "print (amsterdam)"
   ]
  },
  {
   "cell_type": "code",
   "execution_count": 202,
   "metadata": {},
   "outputs": [],
   "source": [
    "city_dict = {}\n",
    "for num, city in enumerate(list(set(TA_df['source']))):\n",
    "    city_dict[city] = num\n",
    "TA_df['source_num'] = TA_df['source'].apply(lambda source : city_dict[source])"
   ]
  },
  {
   "cell_type": "code",
   "execution_count": 252,
   "metadata": {},
   "outputs": [
    {
     "data": {
      "text/plain": [
       "{'Amsterdam': 0, 'Paris': 1, 'Frankfurt': 2}"
      ]
     },
     "execution_count": 252,
     "metadata": {},
     "output_type": "execute_result"
    }
   ],
   "source": [
    "city_dict"
   ]
  },
  {
   "cell_type": "code",
   "execution_count": 260,
   "metadata": {},
   "outputs": [
    {
     "name": "stderr",
     "output_type": "stream",
     "text": [
      "/home/liampeng/anaconda3/lib/python3.6/site-packages/pandas/plotting/_tools.py:308: MatplotlibDeprecationWarning: \n",
      "The rowNum attribute was deprecated in Matplotlib 3.2 and will be removed two minor releases later. Use ax.get_subplotspec().rowspan.start instead.\n",
      "  layout[ax.rowNum, ax.colNum] = ax.get_visible()\n",
      "/home/liampeng/anaconda3/lib/python3.6/site-packages/pandas/plotting/_tools.py:308: MatplotlibDeprecationWarning: \n",
      "The colNum attribute was deprecated in Matplotlib 3.2 and will be removed two minor releases later. Use ax.get_subplotspec().colspan.start instead.\n",
      "  layout[ax.rowNum, ax.colNum] = ax.get_visible()\n",
      "/home/liampeng/anaconda3/lib/python3.6/site-packages/pandas/plotting/_tools.py:314: MatplotlibDeprecationWarning: \n",
      "The rowNum attribute was deprecated in Matplotlib 3.2 and will be removed two minor releases later. Use ax.get_subplotspec().rowspan.start instead.\n",
      "  if not layout[ax.rowNum + 1, ax.colNum]:\n",
      "/home/liampeng/anaconda3/lib/python3.6/site-packages/pandas/plotting/_tools.py:314: MatplotlibDeprecationWarning: \n",
      "The colNum attribute was deprecated in Matplotlib 3.2 and will be removed two minor releases later. Use ax.get_subplotspec().colspan.start instead.\n",
      "  if not layout[ax.rowNum + 1, ax.colNum]:\n"
     ]
    },
    {
     "data": {
      "image/png": "[encoded data removed]",
      "text/plain": [
       "<Figure size 432x288 with 2 Axes>"
      ]
     },
     "metadata": {},
     "output_type": "display_data"
    }
   ],
   "source": [
    "delay_time = TA_df.plot.scatter(x='hour',\n",
    "                      y='delay',\n",
    "                      c='source_num',\n",
    "                      colormap='viridis').get_figure()\n",
    "delay_time.savefig('delay_time.pdf')"
   ]
  },
  {
   "cell_type": "code",
   "execution_count": 261,
   "metadata": {},
   "outputs": [
    {
     "data": {
      "image/png": "[encoded data removed]",
      "text/plain": [
       "<Figure size 432x288 with 2 Axes>"
      ]
     },
     "execution_count": 261,
     "metadata": {},
     "output_type": "execute_result"
    }
   ],
   "source": [
    "delay_time"
   ]
  },
  {
   "cell_type": "code",
   "execution_count": 186,
   "metadata": {},
   "outputs": [
    {
     "data": {
      "text/plain": [
       "{'Bravatas',\n",
       " 'Hurricane Electric',\n",
       " 'Level 3',\n",
       " 'Level 3,',\n",
       " 'NTT America,',\n",
       " 'Tata Communications',\n",
       " 'Telia Company',\n",
       " 'Zayo Bandwidth',\n",
       " nan}"
      ]
     },
     "execution_count": 186,
     "metadata": {},
     "output_type": "execute_result"
    }
   ],
   "source": [
    "set(TA_df['org'])"
   ]
  },
  {
   "cell_type": "code",
   "execution_count": 183,
   "metadata": {},
   "outputs": [],
   "source": [
    "def org_name(org):\n",
    "    if pd.isna(org):\n",
    "        return org\n",
    "    x = org.split()\n",
    "    if len(x) <= 2:\n",
    "        return org\n",
    "    newOrg = ' '.join(x[:2])\n",
    "    return newOrg"
   ]
  },
  {
   "cell_type": "code",
   "execution_count": 184,
   "metadata": {},
   "outputs": [],
   "source": [
    "TA_df['org'] = TA_df['org'].apply(org_name)"
   ]
  },
  {
   "cell_type": "code",
   "execution_count": 188,
   "metadata": {},
   "outputs": [],
   "source": [
    "TA_df['org'] = TA_df['org'].apply(lambda org : org if pd.isna(org) else org.replace(',',''))"
   ]
  },
  {
   "cell_type": "code",
   "execution_count": 255,
   "metadata": {},
   "outputs": [],
   "source": [
    "TA_df.to_csv('TA_df.csv')"
   ]
  },
  {
   "cell_type": "code",
   "execution_count": 235,
   "metadata": {},
   "outputs": [
    {
     "data": {
      "text/plain": [
       "['Zayo Bandwidth',\n",
       " 'Telia Company',\n",
       " 'NTT America',\n",
       " 'Tata Communications',\n",
       " 'Level 3',\n",
       " 'Unknown',\n",
       " 'Bravatas',\n",
       " 'Hurricane Electric']"
      ]
     },
     "execution_count": 235,
     "metadata": {},
     "output_type": "execute_result"
    }
   ],
   "source": [
    "list(set(TA_df['org']))"
   ]
  },
  {
   "cell_type": "code",
   "execution_count": 236,
   "metadata": {},
   "outputs": [],
   "source": [
    "TA_df['org'] = TA_df['org'].fillna('Unknown')"
   ]
  },
  {
   "cell_type": "code",
   "execution_count": 242,
   "metadata": {},
   "outputs": [],
   "source": [
    "org_dict = {}\n",
    "i = 0\n",
    "for org in list(set(TA_df['org'])):\n",
    "    org_dict[org] = i\n",
    "    i += 1"
   ]
  },
  {
   "cell_type": "code",
   "execution_count": 243,
   "metadata": {},
   "outputs": [
    {
     "data": {
      "text/plain": [
       "{'Zayo Bandwidth': 0,\n",
       " 'Telia Company': 1,\n",
       " 'NTT America': 2,\n",
       " 'Tata Communications': 3,\n",
       " 'Level 3': 4,\n",
       " 'Unknown': 5,\n",
       " 'Bravatas': 6,\n",
       " 'Hurricane Electric': 7}"
      ]
     },
     "execution_count": 243,
     "metadata": {},
     "output_type": "execute_result"
    }
   ],
   "source": [
    "org_dict"
   ]
  },
  {
   "cell_type": "code",
   "execution_count": 244,
   "metadata": {},
   "outputs": [],
   "source": [
    "TA_df['org_num'] = TA_df['org'].apply(lambda org : org_dict[org])"
   ]
  },
  {
   "cell_type": "code",
   "execution_count": 246,
   "metadata": {},
   "outputs": [
    {
     "name": "stderr",
     "output_type": "stream",
     "text": [
      "/home/liampeng/anaconda3/lib/python3.6/site-packages/pandas/plotting/_tools.py:308: MatplotlibDeprecationWarning: \n",
      "The rowNum attribute was deprecated in Matplotlib 3.2 and will be removed two minor releases later. Use ax.get_subplotspec().rowspan.start instead.\n",
      "  layout[ax.rowNum, ax.colNum] = ax.get_visible()\n",
      "/home/liampeng/anaconda3/lib/python3.6/site-packages/pandas/plotting/_tools.py:308: MatplotlibDeprecationWarning: \n",
      "The colNum attribute was deprecated in Matplotlib 3.2 and will be removed two minor releases later. Use ax.get_subplotspec().colspan.start instead.\n",
      "  layout[ax.rowNum, ax.colNum] = ax.get_visible()\n",
      "/home/liampeng/anaconda3/lib/python3.6/site-packages/pandas/plotting/_tools.py:314: MatplotlibDeprecationWarning: \n",
      "The rowNum attribute was deprecated in Matplotlib 3.2 and will be removed two minor releases later. Use ax.get_subplotspec().rowspan.start instead.\n",
      "  if not layout[ax.rowNum + 1, ax.colNum]:\n",
      "/home/liampeng/anaconda3/lib/python3.6/site-packages/pandas/plotting/_tools.py:314: MatplotlibDeprecationWarning: \n",
      "The colNum attribute was deprecated in Matplotlib 3.2 and will be removed two minor releases later. Use ax.get_subplotspec().colspan.start instead.\n",
      "  if not layout[ax.rowNum + 1, ax.colNum]:\n"
     ]
    },
    {
     "data": {
      "text/plain": [
       "<matplotlib.axes._subplots.AxesSubplot at 0x7f1244df1a90>"
      ]
     },
     "execution_count": 246,
     "metadata": {},
     "output_type": "execute_result"
    },
    {
     "data": {
      "image/png": "[encoded data removed]",
      "text/plain": [
       "<Figure size 432x288 with 2 Axes>"
      ]
     },
     "metadata": {},
     "output_type": "display_data"
    }
   ],
   "source": [
    "TA_df.plot.scatter(x='hour',\n",
    "                      y='delay',\n",
    "                      c='org_num',\n",
    "                      colormap='viridis')"
   ]
  },
  {
   "cell_type": "code",
   "execution_count": 266,
   "metadata": {},
   "outputs": [
    {
     "data": {
      "image/png": "[encoded data removed]",
      "text/plain": [
       "<Figure size 432x288 with 1 Axes>"
      ]
     },
     "metadata": {},
     "output_type": "display_data"
    }
   ],
   "source": [
    "delay_org = TA_df.boxplot(column=['delay'],by='org', rot=90).get_figure()\n",
    "delay_org.savefig('delay_org.pdf')"
   ]
  },
  {
   "cell_type": "code",
   "execution_count": 267,
   "metadata": {},
   "outputs": [
    {
     "data": {
      "image/png": "[encoded data removed]",
      "text/plain": [
       "<Figure size 432x288 with 1 Axes>"
      ]
     },
     "metadata": {},
     "output_type": "display_data"
    }
   ],
   "source": [
    "delay_source = TA_df.boxplot(column=['delay'],by='source', rot=90).get_figure()\n",
    "delay_source.savefig('delay_source.pdf')"
   ]
  }
 ],
 "metadata": {
  "kernelspec": {
   "display_name": "Python 3",
   "language": "python",
   "name": "python3"
  },
  "language_info": {
   "codemirror_mode": {
    "name": "ipython",
    "version": 3
   },
   "file_extension": ".py",
   "mimetype": "text/x-python",
   "name": "python",
   "nbconvert_exporter": "python",
   "pygments_lexer": "ipython3",
   "version": "3.6.10"
  }
 },
 "nbformat": 4,
 "nbformat_minor": 2
}
